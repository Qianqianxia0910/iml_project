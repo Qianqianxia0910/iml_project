{
 "cells": [
  {
   "cell_type": "code",
   "execution_count": 4,
   "metadata": {},
   "outputs": [],
   "source": [
    "import pandas as pd\n",
    "import numpy as np\n",
    "import seaborn as sns\n",
    "from matplotlib import pyplot as plt\n",
    "\n",
    "from imblearn.over_sampling import SMOTE"
   ]
  },
  {
   "cell_type": "markdown",
   "metadata": {},
   "source": [
    "### prepare data"
   ]
  },
  {
   "cell_type": "code",
   "execution_count": 5,
   "metadata": {},
   "outputs": [
    {
     "data": {
      "text/plain": [
       "(464, 104)"
      ]
     },
     "execution_count": 5,
     "metadata": {},
     "output_type": "execute_result"
    }
   ],
   "source": [
    "fpath = \"/home/qian/UHstudy/ML/000project files/00Term project materials-20221204/npf_train.csv\"\n",
    "df = pd.read_csv(fpath)\n",
    "df.head()\n",
    "df.shape"
   ]
  },
  {
   "cell_type": "code",
   "execution_count": 6,
   "metadata": {},
   "outputs": [
    {
     "data": {
      "text/plain": [
       "0      1\n",
       "1      0\n",
       "2      1\n",
       "3      1\n",
       "4      0\n",
       "      ..\n",
       "459    0\n",
       "460    0\n",
       "461    0\n",
       "462    0\n",
       "463    0\n",
       "Name: class_type, Length: 464, dtype: int64"
      ]
     },
     "execution_count": 6,
     "metadata": {},
     "output_type": "execute_result"
    }
   ],
   "source": [
    "npf = df.copy()\n",
    "class_type = np.array([0,1])\n",
    "npf[\"class_type\"] = class_type[(npf[\"class4\"]!=\"nonevent\").astype(int)]\n",
    "npf.shape\n",
    "npf[\"class_type\"]"
   ]
  },
  {
   "cell_type": "code",
   "execution_count": 9,
   "metadata": {},
   "outputs": [
    {
     "data": {
      "text/plain": [
       "1    232\n",
       "4    113\n",
       "3     85\n",
       "2     34\n",
       "Name: multi_class, dtype: int64"
      ]
     },
     "execution_count": 9,
     "metadata": {},
     "output_type": "execute_result"
    }
   ],
   "source": [
    "npf[\"multi_class\"] = np.where(npf[\"class4\"]==\"nonevent\",1,0)\n",
    "npf[\"multi_class\"] = np.where(npf[\"class4\"]==\"Ia\",2,npf[\"multi_class\"])\n",
    "npf[\"multi_class\"] = np.where(npf[\"class4\"]==\"Ib\",3,npf[\"multi_class\"])\n",
    "npf[\"multi_class\"] = np.where(npf[\"class4\"]==\"II\",4,npf[\"multi_class\"])\n",
    "npf[\"multi_class\"].value_counts()\n"
   ]
  },
  {
   "cell_type": "code",
   "execution_count": 8,
   "metadata": {},
   "outputs": [
    {
     "data": {
      "text/html": [
       "<div>\n",
       "<style scoped>\n",
       "    .dataframe tbody tr th:only-of-type {\n",
       "        vertical-align: middle;\n",
       "    }\n",
       "\n",
       "    .dataframe tbody tr th {\n",
       "        vertical-align: top;\n",
       "    }\n",
       "\n",
       "    .dataframe thead th {\n",
       "        text-align: right;\n",
       "    }\n",
       "</style>\n",
       "<table border=\"1\" class=\"dataframe\">\n",
       "  <thead>\n",
       "    <tr style=\"text-align: right;\">\n",
       "      <th></th>\n",
       "      <th>id</th>\n",
       "      <th>date</th>\n",
       "      <th>class4</th>\n",
       "      <th>partlybad</th>\n",
       "      <th>CO2168.mean</th>\n",
       "      <th>CO2168.std</th>\n",
       "      <th>CO2336.mean</th>\n",
       "      <th>CO2336.std</th>\n",
       "      <th>CO242.mean</th>\n",
       "      <th>CO242.std</th>\n",
       "      <th>...</th>\n",
       "      <th>T84.mean</th>\n",
       "      <th>T84.std</th>\n",
       "      <th>UV_A.mean</th>\n",
       "      <th>UV_A.std</th>\n",
       "      <th>UV_B.mean</th>\n",
       "      <th>UV_B.std</th>\n",
       "      <th>CS.mean</th>\n",
       "      <th>CS.std</th>\n",
       "      <th>class_type</th>\n",
       "      <th>multi_class</th>\n",
       "    </tr>\n",
       "  </thead>\n",
       "  <tbody>\n",
       "    <tr>\n",
       "      <th>0</th>\n",
       "      <td>1</td>\n",
       "      <td>2000-01-17</td>\n",
       "      <td>Ib</td>\n",
       "      <td>False</td>\n",
       "      <td>368.771711</td>\n",
       "      <td>0.310309</td>\n",
       "      <td>368.665658</td>\n",
       "      <td>0.305127</td>\n",
       "      <td>369.371184</td>\n",
       "      <td>0.333606</td>\n",
       "      <td>...</td>\n",
       "      <td>-0.899393</td>\n",
       "      <td>0.271648</td>\n",
       "      <td>2.492491</td>\n",
       "      <td>1.310880</td>\n",
       "      <td>0.031587</td>\n",
       "      <td>0.018122</td>\n",
       "      <td>0.000243</td>\n",
       "      <td>0.000035</td>\n",
       "      <td>1</td>\n",
       "      <td>3</td>\n",
       "    </tr>\n",
       "    <tr>\n",
       "      <th>1</th>\n",
       "      <td>2</td>\n",
       "      <td>2000-02-28</td>\n",
       "      <td>nonevent</td>\n",
       "      <td>False</td>\n",
       "      <td>378.197295</td>\n",
       "      <td>1.001493</td>\n",
       "      <td>378.083089</td>\n",
       "      <td>1.025472</td>\n",
       "      <td>378.671311</td>\n",
       "      <td>1.017208</td>\n",
       "      <td>...</td>\n",
       "      <td>2.033191</td>\n",
       "      <td>0.271090</td>\n",
       "      <td>0.295937</td>\n",
       "      <td>0.177836</td>\n",
       "      <td>0.005140</td>\n",
       "      <td>0.003552</td>\n",
       "      <td>0.003658</td>\n",
       "      <td>0.000940</td>\n",
       "      <td>0</td>\n",
       "      <td>1</td>\n",
       "    </tr>\n",
       "    <tr>\n",
       "      <th>2</th>\n",
       "      <td>3</td>\n",
       "      <td>2000-03-24</td>\n",
       "      <td>Ib</td>\n",
       "      <td>False</td>\n",
       "      <td>373.043158</td>\n",
       "      <td>0.749865</td>\n",
       "      <td>372.930066</td>\n",
       "      <td>0.728411</td>\n",
       "      <td>373.569735</td>\n",
       "      <td>0.835240</td>\n",
       "      <td>...</td>\n",
       "      <td>0.780422</td>\n",
       "      <td>2.334741</td>\n",
       "      <td>14.434789</td>\n",
       "      <td>8.627312</td>\n",
       "      <td>0.353743</td>\n",
       "      <td>0.272472</td>\n",
       "      <td>0.000591</td>\n",
       "      <td>0.000191</td>\n",
       "      <td>1</td>\n",
       "      <td>3</td>\n",
       "    </tr>\n",
       "    <tr>\n",
       "      <th>3</th>\n",
       "      <td>4</td>\n",
       "      <td>2000-03-30</td>\n",
       "      <td>II</td>\n",
       "      <td>False</td>\n",
       "      <td>375.643019</td>\n",
       "      <td>0.558629</td>\n",
       "      <td>375.549430</td>\n",
       "      <td>0.540964</td>\n",
       "      <td>376.045849</td>\n",
       "      <td>0.580730</td>\n",
       "      <td>...</td>\n",
       "      <td>6.533544</td>\n",
       "      <td>2.695277</td>\n",
       "      <td>16.077513</td>\n",
       "      <td>9.984686</td>\n",
       "      <td>0.568242</td>\n",
       "      <td>0.451830</td>\n",
       "      <td>0.002493</td>\n",
       "      <td>0.000466</td>\n",
       "      <td>1</td>\n",
       "      <td>4</td>\n",
       "    </tr>\n",
       "    <tr>\n",
       "      <th>4</th>\n",
       "      <td>5</td>\n",
       "      <td>2000-04-04</td>\n",
       "      <td>nonevent</td>\n",
       "      <td>False</td>\n",
       "      <td>377.661030</td>\n",
       "      <td>0.408421</td>\n",
       "      <td>377.609576</td>\n",
       "      <td>0.423963</td>\n",
       "      <td>378.117134</td>\n",
       "      <td>0.417243</td>\n",
       "      <td>...</td>\n",
       "      <td>2.133774</td>\n",
       "      <td>1.614122</td>\n",
       "      <td>9.710422</td>\n",
       "      <td>7.054069</td>\n",
       "      <td>0.339135</td>\n",
       "      <td>0.291457</td>\n",
       "      <td>0.004715</td>\n",
       "      <td>0.000679</td>\n",
       "      <td>0</td>\n",
       "      <td>1</td>\n",
       "    </tr>\n",
       "  </tbody>\n",
       "</table>\n",
       "<p>5 rows × 106 columns</p>\n",
       "</div>"
      ],
      "text/plain": [
       "   id        date    class4  partlybad  CO2168.mean  CO2168.std  CO2336.mean  \\\n",
       "0   1  2000-01-17        Ib      False   368.771711    0.310309   368.665658   \n",
       "1   2  2000-02-28  nonevent      False   378.197295    1.001493   378.083089   \n",
       "2   3  2000-03-24        Ib      False   373.043158    0.749865   372.930066   \n",
       "3   4  2000-03-30        II      False   375.643019    0.558629   375.549430   \n",
       "4   5  2000-04-04  nonevent      False   377.661030    0.408421   377.609576   \n",
       "\n",
       "   CO2336.std  CO242.mean  CO242.std  ...  T84.mean   T84.std  UV_A.mean  \\\n",
       "0    0.305127  369.371184   0.333606  ... -0.899393  0.271648   2.492491   \n",
       "1    1.025472  378.671311   1.017208  ...  2.033191  0.271090   0.295937   \n",
       "2    0.728411  373.569735   0.835240  ...  0.780422  2.334741  14.434789   \n",
       "3    0.540964  376.045849   0.580730  ...  6.533544  2.695277  16.077513   \n",
       "4    0.423963  378.117134   0.417243  ...  2.133774  1.614122   9.710422   \n",
       "\n",
       "   UV_A.std  UV_B.mean  UV_B.std   CS.mean    CS.std  class_type  multi_class  \n",
       "0  1.310880   0.031587  0.018122  0.000243  0.000035           1            3  \n",
       "1  0.177836   0.005140  0.003552  0.003658  0.000940           0            1  \n",
       "2  8.627312   0.353743  0.272472  0.000591  0.000191           1            3  \n",
       "3  9.984686   0.568242  0.451830  0.002493  0.000466           1            4  \n",
       "4  7.054069   0.339135  0.291457  0.004715  0.000679           0            1  \n",
       "\n",
       "[5 rows x 106 columns]"
      ]
     },
     "execution_count": 8,
     "metadata": {},
     "output_type": "execute_result"
    }
   ],
   "source": [
    "npf.head()"
   ]
  },
  {
   "cell_type": "code",
   "execution_count": 11,
   "metadata": {},
   "outputs": [
    {
     "data": {
      "text/plain": [
       "1    232\n",
       "4    113\n",
       "3     85\n",
       "2     34\n",
       "Name: multi_class, dtype: int64"
      ]
     },
     "execution_count": 11,
     "metadata": {},
     "output_type": "execute_result"
    }
   ],
   "source": [
    "from sklearn.model_selection import train_test_split\n",
    "X = npf.drop([\"id\",\"date\",\"class4\",\"partlybad\",\"class_type\",\"multi_class\"],axis=1)\n",
    "\n",
    "y = npf[\"multi_class\"] \n",
    "y.value_counts()\n",
    "\n",
    "# X_train, X_test, y_train, y_test = train_test_split(X,y,test_size=0.5,random_state=101)\n",
    "# y_train.value_counts()\n"
   ]
  },
  {
   "cell_type": "markdown",
   "metadata": {},
   "source": [
    "### Feature Selection"
   ]
  },
  {
   "cell_type": "code",
   "execution_count": null,
   "metadata": {},
   "outputs": [],
   "source": [
    "# from sklearn.feature_selection import SelectFromModel\n",
    "# from sklearn.linear_model import LogisticRegression\n",
    "# # print(X.shape) \n",
    "# # X = SelectFromModel(LogisticRegression(penalty=\"none\", C=0.2)).fit_transform(X, y)\n",
    "# # print(X.shape) \n",
    "# print(X.shape)\n",
    "# from sklearn.feature_selection import SelectKBest\n",
    "# from sklearn.feature_selection import chi2\n",
    "# from sklearn.svm import LinearSVC\n",
    "\n",
    "# lsvc = LinearSVC(C=0.5, penalty=\"l2\", dual=False).fit(X, y)\n",
    "# model = SelectFromModel(lsvc, prefit=True)\n",
    "# X = model.transform(X)\n",
    "# print(X.shape)"
   ]
  },
  {
   "cell_type": "markdown",
   "metadata": {},
   "source": [
    "### Standlization process"
   ]
  },
  {
   "cell_type": "code",
   "execution_count": null,
   "metadata": {},
   "outputs": [],
   "source": [
    "#standardize the data\n",
    "from sklearn.preprocessing import StandardScaler\n",
    "scaler = StandardScaler()\n",
    "X = scaler.fit_transform(X)\n",
    "# X_test = scaler.transform(X_test)\n",
    "# X"
   ]
  },
  {
   "cell_type": "markdown",
   "metadata": {},
   "source": [
    "### UP/DOWN sampling"
   ]
  },
  {
   "cell_type": "code",
   "execution_count": 12,
   "metadata": {},
   "outputs": [
    {
     "name": "stdout",
     "output_type": "stream",
     "text": [
      "(464, 100)\n",
      "(464,)\n"
     ]
    },
    {
     "data": {
      "text/plain": [
       "2    130\n",
       "4    113\n",
       "1    112\n",
       "3    109\n",
       "Name: multi_class, dtype: int64"
      ]
     },
     "execution_count": 12,
     "metadata": {},
     "output_type": "execute_result"
    }
   ],
   "source": [
    "_, X_test, _, y_test = train_test_split(X,y,test_size=0.3,random_state=101)\n",
    "\n",
    "model_smote=SMOTE()\n",
    "print(X.shape)\n",
    "print(y.shape)\n",
    "x_smote_resampled,y_smote_resampled=model_smote.fit_resample(X,y)  #Oversampling\n",
    "y_smote_resampled.value_counts()\n",
    "\n",
    "\n",
    "from imblearn.under_sampling import RandomUnderSampler #UnderSampler\n",
    "\n",
    "model_RandomUnderSampler=RandomUnderSampler()   \n",
    "x_RandomUnderSampler_resampled,y_RandomUnderSampler_resampled=model_RandomUnderSampler.fit_resample(X,y)  \n",
    "\n",
    "# y_smote_resampled=pd.DataFrame(y_smote_resampled,columns=['label']) \n",
    "# smote_resampled=pd.concat([x_smote_resampled,y_smote_resampled],axis=1)  #rejoin features and labels\n",
    "# group_data_smote=smote_resampled.groupby(['label'])['label'].count()   #check the amount\n",
    "# x_smote_resampled \n",
    "# X_train, X_test, y_train, y_test = train_test_split(X,y,test_size=0.3,random_state=101)\n",
    "# y_train.value_counts()\n",
    "\n",
    "X_train, _, y_train, _ = train_test_split(x_smote_resampled,y_smote_resampled,test_size=0.5,random_state=101)\n",
    "y_train.value_counts()\n",
    "# X_train, _, y_train, _ = train_test_split(x_RandomUnderSampler_resampled,y_RandomUnderSampler_resampled,test_size=0.5,random_state=101)\n",
    "# y_train.value_counts()"
   ]
  },
  {
   "cell_type": "code",
   "execution_count": 13,
   "metadata": {},
   "outputs": [
    {
     "data": {
      "text/plain": [
       "CO2168.mean    380.469688\n",
       "CO2168.std       2.661063\n",
       "CO2336.mean    380.522197\n",
       "CO2336.std       2.509072\n",
       "CO242.mean     381.265757\n",
       "                  ...    \n",
       "UV_A.std         7.980268\n",
       "UV_B.mean        0.461426\n",
       "UV_B.std         0.386260\n",
       "CS.mean          0.002466\n",
       "CS.std           0.000572\n",
       "Length: 100, dtype: float64"
      ]
     },
     "execution_count": 13,
     "metadata": {},
     "output_type": "execute_result"
    }
   ],
   "source": [
    "X_train.mean(axis=0)"
   ]
  },
  {
   "cell_type": "code",
   "execution_count": 14,
   "metadata": {},
   "outputs": [
    {
     "data": {
      "text/plain": [
       "CO2168.mean    9.311183\n",
       "CO2168.std     2.704229\n",
       "CO2336.mean    9.285499\n",
       "CO2336.std     2.512657\n",
       "CO242.mean     8.962828\n",
       "                 ...   \n",
       "UV_A.std       4.756510\n",
       "UV_B.mean      0.304300\n",
       "UV_B.std       0.274909\n",
       "CS.mean        0.001723\n",
       "CS.std         0.000514\n",
       "Length: 100, dtype: float64"
      ]
     },
     "execution_count": 14,
     "metadata": {},
     "output_type": "execute_result"
    }
   ],
   "source": [
    "X_train.std(axis=0) "
   ]
  },
  {
   "cell_type": "code",
   "execution_count": null,
   "metadata": {},
   "outputs": [],
   "source": [
    " "
   ]
  },
  {
   "cell_type": "code",
   "execution_count": null,
   "metadata": {},
   "outputs": [],
   "source": [
    "# #PCA\n",
    "# from sklearn.decomposition import PCA\n",
    "# pca = PCA(n_components=2)\n",
    "# X_train = pca.fit_transform(X_train)\n",
    "# X_test = pca.transform(X_test)\n"
   ]
  },
  {
   "cell_type": "code",
   "execution_count": 15,
   "metadata": {},
   "outputs": [
    {
     "name": "stdout",
     "output_type": "stream",
     "text": [
      "[[51 10  3  8]\n",
      " [ 1  7  2  1]\n",
      " [ 3 11 17  0]\n",
      " [ 1  5  7 13]]\n",
      "              precision    recall  f1-score   support\n",
      "\n",
      "           1       0.91      0.71      0.80        72\n",
      "           2       0.21      0.64      0.32        11\n",
      "           3       0.59      0.55      0.57        31\n",
      "           4       0.59      0.50      0.54        26\n",
      "\n",
      "    accuracy                           0.63       140\n",
      "   macro avg       0.57      0.60      0.56       140\n",
      "weighted avg       0.72      0.63      0.66       140\n",
      "\n",
      "score 0.6285714285714286\n"
     ]
    },
    {
     "name": "stderr",
     "output_type": "stream",
     "text": [
      "/home/qian/.local/lib/python3.10/site-packages/sklearn/linear_model/_logistic.py:444: ConvergenceWarning: lbfgs failed to converge (status=1):\n",
      "STOP: TOTAL NO. of ITERATIONS REACHED LIMIT.\n",
      "\n",
      "Increase the number of iterations (max_iter) or scale the data as shown in:\n",
      "    https://scikit-learn.org/stable/modules/preprocessing.html\n",
      "Please also refer to the documentation for alternative solver options:\n",
      "    https://scikit-learn.org/stable/modules/linear_model.html#logistic-regression\n",
      "  n_iter_i = _check_optimize_result(\n"
     ]
    }
   ],
   "source": [
    "#softmax regression\n",
    "from sklearn.linear_model import LogisticRegression\n",
    "from sklearn.metrics import confusion_matrix, classification_report\n",
    "logmodel = LogisticRegression(multi_class=\"multinomial\",solver=\"lbfgs\")\n",
    "logmodel.fit(X_train,y_train)\n",
    "predictions = logmodel.predict(X_test)\n",
    "\n",
    "print(confusion_matrix(y_test,predictions))\n",
    "print(classification_report(y_test,predictions))\n",
    "#score\n",
    "score = logmodel.score(X_test,y_test)\n",
    "print(\"score\",score)\n"
   ]
  },
  {
   "cell_type": "code",
   "execution_count": 16,
   "metadata": {},
   "outputs": [
    {
     "name": "stdout",
     "output_type": "stream",
     "text": [
      "predictions: [2 1 4 4 3 3 2 4 1 2 2 2 3 1 1 1 3 4 4 2 1 4 2 1 2 3 1 2 2 2 4 2 3 1 4 2 4\n",
      " 4 4 4 1 2 1 1 1 2 4 4 2 1 2 3 1 1 1 1 1 1 1 2 2 1 2 4 3 3 3 1 4 1 2 3 1 1\n",
      " 2 2 2 1 1 3 4 1 4 3 1 1 3 4 3 1 1 3 1 3 1 1 1 1 2 4 1 2 4 1 1 2 1 3 2 3 1\n",
      " 3 3 3 3 1 2 1 3 1 1 2 3 1 3 1 1 3 2 1 2 3 1 2 1 1 1 4 3 1]\n"
     ]
    }
   ],
   "source": [
    "print(\"predictions:\",predictions)"
   ]
  },
  {
   "cell_type": "markdown",
   "metadata": {},
   "source": [
    "SVM"
   ]
  },
  {
   "cell_type": "code",
   "execution_count": 19,
   "metadata": {},
   "outputs": [
    {
     "name": "stdout",
     "output_type": "stream",
     "text": [
      "[[61  3  1  7]\n",
      " [ 0 11  0  0]\n",
      " [ 0  7 19  5]\n",
      " [ 4  2  2 18]]\n",
      "              precision    recall  f1-score   support\n",
      "\n",
      "           1       0.94      0.85      0.89        72\n",
      "           2       0.48      1.00      0.65        11\n",
      "           3       0.86      0.61      0.72        31\n",
      "           4       0.60      0.69      0.64        26\n",
      "\n",
      "    accuracy                           0.78       140\n",
      "   macro avg       0.72      0.79      0.72       140\n",
      "weighted avg       0.82      0.78      0.79       140\n",
      "\n",
      "score 0.7785714285714286\n"
     ]
    }
   ],
   "source": [
    "from sklearn.svm import SVC\n",
    "from sklearn.pipeline import make_pipeline\n",
    "from sklearn.preprocessing import StandardScaler\n",
    "\n",
    "clf = make_pipeline(StandardScaler(), SVC(gamma='auto'))\n",
    "clf.fit(X_train,y_train)\n",
    "predictions = clf.predict(X_test)\n",
    "\n",
    "print(confusion_matrix(y_test,predictions))\n",
    "print(classification_report(y_test,predictions))\n",
    "#score\n",
    "score = clf.score(X_test,y_test)\n",
    "print(\"score\",score)\n"
   ]
  },
  {
   "cell_type": "markdown",
   "metadata": {},
   "source": [
    "Random Forest"
   ]
  },
  {
   "cell_type": "code",
   "execution_count": 18,
   "metadata": {},
   "outputs": [
    {
     "name": "stdout",
     "output_type": "stream",
     "text": [
      "[[63  7  0  2]\n",
      " [ 0  9  1  1]\n",
      " [ 2  6 15  8]\n",
      " [ 3  8  3 12]]\n",
      "              precision    recall  f1-score   support\n",
      "\n",
      "           1       0.93      0.88      0.90        72\n",
      "           2       0.30      0.82      0.44        11\n",
      "           3       0.79      0.48      0.60        31\n",
      "           4       0.52      0.46      0.49        26\n",
      "\n",
      "    accuracy                           0.71       140\n",
      "   macro avg       0.63      0.66      0.61       140\n",
      "weighted avg       0.77      0.71      0.72       140\n",
      "\n",
      "score 0.7071428571428572\n"
     ]
    }
   ],
   "source": [
    "from sklearn.ensemble import RandomForestClassifier\n",
    "from sklearn.datasets import make_classification\n",
    "\n",
    "\n",
    "clf = RandomForestClassifier(max_depth=2, random_state=0) \n",
    "clf.fit(X_train,y_train)\n",
    "predictions = clf.predict(X_test)\n",
    "\n",
    "print(confusion_matrix(y_test,predictions))\n",
    "print(classification_report(y_test,predictions))\n",
    "#score\n",
    "score = clf.score(X_test,y_test)\n",
    "print(\"score\",score)"
   ]
  },
  {
   "cell_type": "markdown",
   "metadata": {},
   "source": [
    "### estimate answers"
   ]
  },
  {
   "cell_type": "code",
   "execution_count": null,
   "metadata": {},
   "outputs": [],
   "source": [
    "npf_test = pd.read_csv('00Term project materials-20221204/npf_test_hidden.csv')\n",
    "npf_test.head()"
   ]
  },
  {
   "cell_type": "code",
   "execution_count": null,
   "metadata": {},
   "outputs": [],
   "source": [
    "npf_test.shape"
   ]
  },
  {
   "cell_type": "code",
   "execution_count": null,
   "metadata": {},
   "outputs": [],
   "source": [
    "x_data = npf_test.drop([\"id\",\"date\",\"class4\",\"partlybad\"],axis=1)\n",
    "x_data.head()"
   ]
  },
  {
   "cell_type": "code",
   "execution_count": null,
   "metadata": {},
   "outputs": [],
   "source": [
    "# x_data = scaler.transform(x_data)\n",
    "# x_data.shape\n"
   ]
  },
  {
   "cell_type": "code",
   "execution_count": null,
   "metadata": {},
   "outputs": [],
   "source": [
    "#estimate the probability of each class\n",
    "y_prob = logmodel.predict_proba(x_data)\n",
    "y_prob"
   ]
  },
  {
   "cell_type": "code",
   "execution_count": null,
   "metadata": {},
   "outputs": [],
   "source": [
    "y_pred = logmodel.predict(X_train)\n",
    "\n",
    "y_train[0:10]"
   ]
  },
  {
   "cell_type": "code",
   "execution_count": null,
   "metadata": {},
   "outputs": [],
   "source": [
    "y_pred[0:10]"
   ]
  },
  {
   "cell_type": "code",
   "execution_count": null,
   "metadata": {},
   "outputs": [],
   "source": [
    "y_prob[0:5]"
   ]
  },
  {
   "cell_type": "code",
   "execution_count": null,
   "metadata": {},
   "outputs": [],
   "source": []
  },
  {
   "cell_type": "code",
   "execution_count": null,
   "metadata": {},
   "outputs": [],
   "source": []
  }
 ],
 "metadata": {
  "kernelspec": {
   "display_name": "Python 3.10.6 64-bit",
   "language": "python",
   "name": "python3"
  },
  "language_info": {
   "codemirror_mode": {
    "name": "ipython",
    "version": 3
   },
   "file_extension": ".py",
   "mimetype": "text/x-python",
   "name": "python",
   "nbconvert_exporter": "python",
   "pygments_lexer": "ipython3",
   "version": "3.10.6 (main, Nov  2 2022, 18:53:38) [GCC 11.3.0]"
  },
  "vscode": {
   "interpreter": {
    "hash": "916dbcbb3f70747c44a77c7bcd40155683ae19c65e1c03b4aa3499c5328201f1"
   }
  }
 },
 "nbformat": 4,
 "nbformat_minor": 2
}
