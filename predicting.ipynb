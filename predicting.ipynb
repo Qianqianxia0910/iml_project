{
 "cells": [
  {
   "cell_type": "code",
   "execution_count": 150,
   "id": "633fcc12",
   "metadata": {},
   "outputs": [],
   "source": [
    "import pandas as pd\n",
    "import numpy as np\n",
    "import seaborn as sns\n",
    "from matplotlib import pyplot as plt\n",
    "\n",
    "df = pd.read_csv('npf_train.csv')\n",
    "\n",
    "npf = df.copy()\n",
    "class2 = np.array([\"noevent\",\"event\"])\n",
    "npf[\"class2\"] = class2[(npf[\"class4\"]!=\"nonevent\").astype(int)]\n",
    "class_type = np.array([0,1])\n",
    "npf[\"class_type\"] = class_type[(npf[\"class4\"]!=\"nonevent\").astype(int)]\n",
    "\n",
    "from sklearn.model_selection import train_test_split\n",
    "from sklearn.preprocessing import StandardScaler\n",
    "from sklearn.linear_model import LogisticRegression\n",
    "from sklearn.metrics import confusion_matrix,classification_report\n",
    "from sklearn.preprocessing import PolynomialFeatures\n",
    "from sklearn.pipeline import make_pipeline\n",
    "from sklearn.ensemble import RandomForestClassifier\n",
    "from sklearn.svm import SVC\n",
    "from sklearn.model_selection import train_test_split, cross_val_score\n",
    "from sklearn.feature_selection import RFECV, RFE\n",
    "import sklearn.preprocessing as preprocessing\n",
    "\n",
    "\n",
    "X = npf.drop([\"id\",\"date\",\"class4\",\"partlybad\",\"class2\",\"class_type\"],axis=1)\n",
    "y = npf[\"class_type\"]\n",
    "X_train, X_test, y_train, y_test = train_test_split(X,y,test_size=0.3,random_state=101)"
   ]
  },
  {
   "cell_type": "markdown",
   "id": "2ef66ca6",
   "metadata": {},
   "source": [
    "# Binary classification"
   ]
  },
  {
   "cell_type": "code",
   "execution_count": 146,
   "id": "54a7ca8b",
   "metadata": {},
   "outputs": [],
   "source": [
    "# Preprocessing\n",
    "estimator_RF = RandomForestClassifier(n_estimators=1500)\n",
    "selector_RF = RFECV(estimator=estimator_RF, step=1, cv=5, scoring=\"accuracy\")\n",
    "#selector = RFE(estimator=SVC(kernel=\"linear\"), step=1, n_features_to_select=5)\n",
    "selector_RF = selector_RF.fit(X_train, y_train)\n",
    "sup_RF = selector_RF.support_\n",
    "ranking_RF = selector_RF.ranking_\n",
    "\n",
    "X_cv_selected_RF = X_train[X_train.columns[sup_RF]]\n",
    "\n",
    "X_trainScale = preprocessing.scale(X_train)\n",
    "X_testScale = preprocessing.scale(X_test)\n",
    "\n",
    "X_train_scale_selfeatures = preprocessing.scale(X_cv_selected_RF)\n",
    "X_test_scale_selfeatures = preprocessing.scale(X_test[X_test.columns[sup_RF]])"
   ]
  },
  {
   "cell_type": "code",
   "execution_count": 151,
   "id": "84665f78",
   "metadata": {},
   "outputs": [
    {
     "name": "stdout",
     "output_type": "stream",
     "text": [
      "Binary accuracy: 0.8928571428571429\n",
      "RF perp: 1.2841501653269833\n"
     ]
    }
   ],
   "source": [
    "m_RF = RandomForestClassifier(n_estimators=1500)\n",
    "m_RF.fit(X_train_scale_selfeatures, y_train)\n",
    "print(f\"Binary accuracy: {m_RF.score(X_test_scale_selfeatures, y_test)}\")\n",
    "acc = lambda p: (y_test * np.round(p) + (1 - y_test) * (1 - np.round(p))).mean()\n",
    "perp = lambda p: np.exp(-np.mean(np.log(y_test*p + (1 - y_test) * (1 - p))))\n",
    "\n",
    "phat = m_RF.predict_proba(X_test_scale_selfeatures)[:,1]\n",
    "\n",
    "print(f\"RF perp: {perp(phat)}\")"
   ]
  },
  {
   "cell_type": "markdown",
   "id": "13298759",
   "metadata": {},
   "source": [
    "# Multi-label classification"
   ]
  },
  {
   "cell_type": "code",
   "execution_count": 152,
   "id": "ed5a6748",
   "metadata": {},
   "outputs": [],
   "source": [
    "from sklearn.preprocessing import StandardScaler\n",
    "\n",
    "npf[\"multi_class\"] = np.where(npf[\"class4\"]==\"nonevent\",1,0)\n",
    "npf[\"multi_class\"] = np.where(npf[\"class4\"]==\"Ia\",2,npf[\"multi_class\"])\n",
    "npf[\"multi_class\"] = np.where(npf[\"class4\"]==\"Ib\",3,npf[\"multi_class\"])\n",
    "npf[\"multi_class\"] = np.where(npf[\"class4\"]==\"II\",4,npf[\"multi_class\"])\n",
    "\n",
    "data_multilabel = npf[npf[\"class4\"]!=\"nonevent\"]\n",
    "#data_multilabel = npf\n",
    "\n",
    "Xm = data_multilabel.drop([\"id\",\"date\",\"class4\",\"partlybad\",\"class_type\",\"multi_class\", \"class2\"],axis=1)\n",
    "ym = data_multilabel[\"multi_class\"] "
   ]
  },
  {
   "cell_type": "code",
   "execution_count": 153,
   "id": "4eadc548",
   "metadata": {},
   "outputs": [
    {
     "data": {
      "text/plain": [
       "3    62\n",
       "2    59\n",
       "4    48\n",
       "Name: multi_class, dtype: int64"
      ]
     },
     "execution_count": 153,
     "metadata": {},
     "output_type": "execute_result"
    }
   ],
   "source": [
    "from imblearn.over_sampling import SMOTE\n",
    "from imblearn.under_sampling import RandomUnderSampler #UnderSampler\n",
    "\n",
    "_, Xm_test, _, ym_test = train_test_split(Xm,ym,test_size=0.3,random_state=101)\n",
    "\n",
    "model_smote=SMOTE()\n",
    "x_smote_resampled,y_smote_resampled=model_smote.fit_resample(Xm,ym)  #Oversampling\n",
    "y_smote_resampled.value_counts()\n",
    "\n",
    "model_RandomUnderSampler=RandomUnderSampler()   \n",
    "x_RandomUnderSampler_resampled,y_RandomUnderSampler_resampled=model_RandomUnderSampler.fit_resample(X,y)  \n",
    "\n",
    "Xm_train, _, ym_train, _ = train_test_split(x_smote_resampled,y_smote_resampled,test_size=0.5,random_state=101)\n",
    "ym_train.value_counts()"
   ]
  },
  {
   "cell_type": "code",
   "execution_count": 154,
   "id": "971652e7",
   "metadata": {},
   "outputs": [
    {
     "name": "stdout",
     "output_type": "stream",
     "text": [
      "              precision    recall  f1-score   support\n",
      "\n",
      "           2       0.45      0.71      0.56         7\n",
      "           3       0.59      0.83      0.69        23\n",
      "           4       0.85      0.57      0.69        40\n",
      "\n",
      "    accuracy                           0.67        70\n",
      "   macro avg       0.63      0.71      0.64        70\n",
      "weighted avg       0.73      0.67      0.67        70\n",
      "\n",
      "score 0.6714285714285714\n",
      "RF perp: 1.5095664459047136\n"
     ]
    },
    {
     "name": "stderr",
     "output_type": "stream",
     "text": [
      "/home/tuomo/.work-venv/lib/python3.9/site-packages/pandas/core/arraylike.py:402: RuntimeWarning: invalid value encountered in log\n",
      "  result = getattr(ufunc, method)(*inputs, **kwargs)\n"
     ]
    }
   ],
   "source": [
    "multi_RF = make_pipeline(StandardScaler(), RandomForestClassifier(n_estimators=1500))\n",
    "multi_RF.fit(Xm_train,ym_train)\n",
    "predictions_RF = multi_RF.predict(Xm_test)\n",
    "\n",
    "print(classification_report(ym_test,predictions_RF))\n",
    "multi_score = multi_RF.score(Xm_test,ym_test)\n",
    "print(\"score\", multi_score)\n",
    "\n",
    "perpm = lambda p: np.exp(-np.mean(np.log(ym_test*p + (1 - ym_test) * (1 - p))))\n",
    "\n",
    "phat_m = multi_RF.predict_proba(Xm_test)[:,1]\n",
    "print(f\"RF perp: {perpm(phat_m)}\")"
   ]
  },
  {
   "cell_type": "markdown",
   "id": "4e7cd141",
   "metadata": {},
   "source": [
    "# Making and collecting predictions on the actual test data"
   ]
  },
  {
   "cell_type": "code",
   "execution_count": 175,
   "id": "c5eca23e",
   "metadata": {
    "scrolled": true
   },
   "outputs": [
    {
     "name": "stdout",
     "output_type": "stream",
     "text": [
      "[4]\n",
      "[0.62733333]\n",
      "class4          II\n",
      "p         0.627333\n",
      "Name: 10, dtype: object\n"
     ]
    },
    {
     "name": "stderr",
     "output_type": "stream",
     "text": [
      "/home/tuomo/.work-venv/lib/python3.9/site-packages/sklearn/base.py:450: UserWarning: X does not have valid feature names, but StandardScaler was fitted with feature names\n",
      "  warnings.warn(\n"
     ]
    }
   ],
   "source": [
    "npf_pred = pd.read_csv('npf_test_hidden.csv')\n",
    "X_pred = npf_pred.drop([\"id\",\"date\",\"class4\",\"partlybad\"],axis=1)\n",
    "X_pred_binary = X_pred[X_pred.columns[sup_RF]]\n",
    "ans = pd.DataFrame(columns=[\"class4\", \"p\"])\n",
    "\n",
    "X_pred_scale_selfeatures = preprocessing.scale(X_pred_binary)\n",
    "\n",
    "# TODO: maybe can indeed train multi-label classifier on all instances, \n",
    "# get probability for each class separately!\n",
    "\n",
    "binary_predictions = m_RF.predict(X_pred_scale_selfeatures)\n",
    "ans[\"p\"] = m_RF.predict_proba(X_pred_scale_selfeatures)[:,1]\n",
    "label = binary_predictions == 1\n",
    "ans[\"class4\"] = np.where(label, \"event\", \"nonevent\")\n",
    "ans[\"class4\"] = np.where(ans[\"class4\"]==\"nonevent\", \"nonevent\", multi_RF.predict(X_pred))\n",
    "ans[\"class4\"] = np.where(ans[\"class4\"]==\"2\", \"Ia\", ans[\"class4\"])\n",
    "ans[\"class4\"] = np.where(ans[\"class4\"]==\"3\", \"Ib\", ans[\"class4\"])\n",
    "ans[\"class4\"] = np.where(ans[\"class4\"]==\"4\", \"II\", ans[\"class4\"])\n",
    "\n",
    "with open(\"answers.csv\", \"w\") as ansfile:\n",
    "    ansfile.write(f\"{m_RF.score(X_test_scale_selfeatures, y_test)}\\n\")\n",
    "    ans.to_csv(ansfile, index=False)\n"
   ]
  },
  {
   "cell_type": "code",
   "execution_count": null,
   "id": "74ca7842",
   "metadata": {},
   "outputs": [],
   "source": []
  }
 ],
 "metadata": {
  "kernelspec": {
   "display_name": "Python 3 (ipykernel)",
   "language": "python",
   "name": "python3"
  },
  "language_info": {
   "codemirror_mode": {
    "name": "ipython",
    "version": 3
   },
   "file_extension": ".py",
   "mimetype": "text/x-python",
   "name": "python",
   "nbconvert_exporter": "python",
   "pygments_lexer": "ipython3",
   "version": "3.9.4"
  }
 },
 "nbformat": 4,
 "nbformat_minor": 5
}
