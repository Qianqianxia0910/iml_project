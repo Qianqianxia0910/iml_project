{
 "cells": [
  {
   "cell_type": "code",
   "execution_count": 239,
   "metadata": {},
   "outputs": [],
   "source": [
    "import pandas as pd\n",
    "import numpy as np\n",
    "import seaborn as sns\n",
    "from matplotlib import pyplot as plt"
   ]
  },
  {
   "cell_type": "markdown",
   "metadata": {},
   "source": [
    "### prepare data"
   ]
  },
  {
   "cell_type": "code",
   "execution_count": 240,
   "metadata": {},
   "outputs": [
    {
     "data": {
      "text/plain": [
       "(464, 104)"
      ]
     },
     "execution_count": 240,
     "metadata": {},
     "output_type": "execute_result"
    }
   ],
   "source": [
    "df = pd.read_csv('00Term project materials-20221204/npf_train.csv')\n",
    "df.head()\n",
    "df.shape"
   ]
  },
  {
   "cell_type": "code",
   "execution_count": 241,
   "metadata": {},
   "outputs": [
    {
     "data": {
      "text/html": [
       "<div>\n",
       "<style scoped>\n",
       "    .dataframe tbody tr th:only-of-type {\n",
       "        vertical-align: middle;\n",
       "    }\n",
       "\n",
       "    .dataframe tbody tr th {\n",
       "        vertical-align: top;\n",
       "    }\n",
       "\n",
       "    .dataframe thead th {\n",
       "        text-align: right;\n",
       "    }\n",
       "</style>\n",
       "<table border=\"1\" class=\"dataframe\">\n",
       "  <thead>\n",
       "    <tr style=\"text-align: right;\">\n",
       "      <th></th>\n",
       "      <th>id</th>\n",
       "      <th>date</th>\n",
       "      <th>class4</th>\n",
       "      <th>partlybad</th>\n",
       "      <th>CO2168.mean</th>\n",
       "      <th>CO2168.std</th>\n",
       "      <th>CO2336.mean</th>\n",
       "      <th>CO2336.std</th>\n",
       "      <th>CO242.mean</th>\n",
       "      <th>CO242.std</th>\n",
       "      <th>...</th>\n",
       "      <th>T84.mean</th>\n",
       "      <th>T84.std</th>\n",
       "      <th>UV_A.mean</th>\n",
       "      <th>UV_A.std</th>\n",
       "      <th>UV_B.mean</th>\n",
       "      <th>UV_B.std</th>\n",
       "      <th>CS.mean</th>\n",
       "      <th>CS.std</th>\n",
       "      <th>class2</th>\n",
       "      <th>class_type</th>\n",
       "    </tr>\n",
       "  </thead>\n",
       "  <tbody>\n",
       "    <tr>\n",
       "      <th>0</th>\n",
       "      <td>1</td>\n",
       "      <td>2000-01-17</td>\n",
       "      <td>Ib</td>\n",
       "      <td>False</td>\n",
       "      <td>368.771711</td>\n",
       "      <td>0.310309</td>\n",
       "      <td>368.665658</td>\n",
       "      <td>0.305127</td>\n",
       "      <td>369.371184</td>\n",
       "      <td>0.333606</td>\n",
       "      <td>...</td>\n",
       "      <td>-0.899393</td>\n",
       "      <td>0.271648</td>\n",
       "      <td>2.492491</td>\n",
       "      <td>1.310880</td>\n",
       "      <td>0.031587</td>\n",
       "      <td>0.018122</td>\n",
       "      <td>0.000243</td>\n",
       "      <td>0.000035</td>\n",
       "      <td>event</td>\n",
       "      <td>1</td>\n",
       "    </tr>\n",
       "    <tr>\n",
       "      <th>1</th>\n",
       "      <td>2</td>\n",
       "      <td>2000-02-28</td>\n",
       "      <td>nonevent</td>\n",
       "      <td>False</td>\n",
       "      <td>378.197295</td>\n",
       "      <td>1.001493</td>\n",
       "      <td>378.083089</td>\n",
       "      <td>1.025472</td>\n",
       "      <td>378.671311</td>\n",
       "      <td>1.017208</td>\n",
       "      <td>...</td>\n",
       "      <td>2.033191</td>\n",
       "      <td>0.271090</td>\n",
       "      <td>0.295937</td>\n",
       "      <td>0.177836</td>\n",
       "      <td>0.005140</td>\n",
       "      <td>0.003552</td>\n",
       "      <td>0.003658</td>\n",
       "      <td>0.000940</td>\n",
       "      <td>noevent</td>\n",
       "      <td>0</td>\n",
       "    </tr>\n",
       "    <tr>\n",
       "      <th>2</th>\n",
       "      <td>3</td>\n",
       "      <td>2000-03-24</td>\n",
       "      <td>Ib</td>\n",
       "      <td>False</td>\n",
       "      <td>373.043158</td>\n",
       "      <td>0.749865</td>\n",
       "      <td>372.930066</td>\n",
       "      <td>0.728411</td>\n",
       "      <td>373.569735</td>\n",
       "      <td>0.835240</td>\n",
       "      <td>...</td>\n",
       "      <td>0.780422</td>\n",
       "      <td>2.334741</td>\n",
       "      <td>14.434789</td>\n",
       "      <td>8.627312</td>\n",
       "      <td>0.353743</td>\n",
       "      <td>0.272472</td>\n",
       "      <td>0.000591</td>\n",
       "      <td>0.000191</td>\n",
       "      <td>event</td>\n",
       "      <td>1</td>\n",
       "    </tr>\n",
       "    <tr>\n",
       "      <th>3</th>\n",
       "      <td>4</td>\n",
       "      <td>2000-03-30</td>\n",
       "      <td>II</td>\n",
       "      <td>False</td>\n",
       "      <td>375.643019</td>\n",
       "      <td>0.558629</td>\n",
       "      <td>375.549430</td>\n",
       "      <td>0.540964</td>\n",
       "      <td>376.045849</td>\n",
       "      <td>0.580730</td>\n",
       "      <td>...</td>\n",
       "      <td>6.533544</td>\n",
       "      <td>2.695277</td>\n",
       "      <td>16.077513</td>\n",
       "      <td>9.984686</td>\n",
       "      <td>0.568242</td>\n",
       "      <td>0.451830</td>\n",
       "      <td>0.002493</td>\n",
       "      <td>0.000466</td>\n",
       "      <td>event</td>\n",
       "      <td>1</td>\n",
       "    </tr>\n",
       "    <tr>\n",
       "      <th>4</th>\n",
       "      <td>5</td>\n",
       "      <td>2000-04-04</td>\n",
       "      <td>nonevent</td>\n",
       "      <td>False</td>\n",
       "      <td>377.661030</td>\n",
       "      <td>0.408421</td>\n",
       "      <td>377.609576</td>\n",
       "      <td>0.423963</td>\n",
       "      <td>378.117134</td>\n",
       "      <td>0.417243</td>\n",
       "      <td>...</td>\n",
       "      <td>2.133774</td>\n",
       "      <td>1.614122</td>\n",
       "      <td>9.710422</td>\n",
       "      <td>7.054069</td>\n",
       "      <td>0.339135</td>\n",
       "      <td>0.291457</td>\n",
       "      <td>0.004715</td>\n",
       "      <td>0.000679</td>\n",
       "      <td>noevent</td>\n",
       "      <td>0</td>\n",
       "    </tr>\n",
       "  </tbody>\n",
       "</table>\n",
       "<p>5 rows × 106 columns</p>\n",
       "</div>"
      ],
      "text/plain": [
       "   id        date    class4  partlybad  CO2168.mean  CO2168.std  CO2336.mean  \\\n",
       "0   1  2000-01-17        Ib      False   368.771711    0.310309   368.665658   \n",
       "1   2  2000-02-28  nonevent      False   378.197295    1.001493   378.083089   \n",
       "2   3  2000-03-24        Ib      False   373.043158    0.749865   372.930066   \n",
       "3   4  2000-03-30        II      False   375.643019    0.558629   375.549430   \n",
       "4   5  2000-04-04  nonevent      False   377.661030    0.408421   377.609576   \n",
       "\n",
       "   CO2336.std  CO242.mean  CO242.std  ...  T84.mean   T84.std  UV_A.mean  \\\n",
       "0    0.305127  369.371184   0.333606  ... -0.899393  0.271648   2.492491   \n",
       "1    1.025472  378.671311   1.017208  ...  2.033191  0.271090   0.295937   \n",
       "2    0.728411  373.569735   0.835240  ...  0.780422  2.334741  14.434789   \n",
       "3    0.540964  376.045849   0.580730  ...  6.533544  2.695277  16.077513   \n",
       "4    0.423963  378.117134   0.417243  ...  2.133774  1.614122   9.710422   \n",
       "\n",
       "   UV_A.std  UV_B.mean  UV_B.std   CS.mean    CS.std   class2  class_type  \n",
       "0  1.310880   0.031587  0.018122  0.000243  0.000035    event           1  \n",
       "1  0.177836   0.005140  0.003552  0.003658  0.000940  noevent           0  \n",
       "2  8.627312   0.353743  0.272472  0.000591  0.000191    event           1  \n",
       "3  9.984686   0.568242  0.451830  0.002493  0.000466    event           1  \n",
       "4  7.054069   0.339135  0.291457  0.004715  0.000679  noevent           0  \n",
       "\n",
       "[5 rows x 106 columns]"
      ]
     },
     "execution_count": 241,
     "metadata": {},
     "output_type": "execute_result"
    }
   ],
   "source": [
    "npf = df.copy()\n",
    "class2 = np.array([\"noevent\",\"event\"])\n",
    "npf[\"class2\"] = class2[(npf[\"class4\"]!=\"nonevent\").astype(int)]\n",
    "class_type = np.array([0,1])\n",
    "npf[\"class_type\"] = class_type[(npf[\"class4\"]!=\"nonevent\").astype(int)]\n",
    "npf.head()\n"
   ]
  },
  {
   "cell_type": "code",
   "execution_count": 242,
   "metadata": {},
   "outputs": [
    {
     "data": {
      "text/plain": [
       "event      232\n",
       "noevent    232\n",
       "Name: class2, dtype: int64"
      ]
     },
     "execution_count": 242,
     "metadata": {},
     "output_type": "execute_result"
    }
   ],
   "source": [
    "npf[\"class2\"].value_counts()"
   ]
  },
  {
   "cell_type": "code",
   "execution_count": 243,
   "metadata": {},
   "outputs": [
    {
     "data": {
      "text/plain": [
       "1    232\n",
       "0    232\n",
       "Name: class_type, dtype: int64"
      ]
     },
     "execution_count": 243,
     "metadata": {},
     "output_type": "execute_result"
    }
   ],
   "source": [
    "npf[\"class_type\"].value_counts()"
   ]
  },
  {
   "cell_type": "code",
   "execution_count": 244,
   "metadata": {},
   "outputs": [
    {
     "data": {
      "text/plain": [
       "0    232\n",
       "3    113\n",
       "2     85\n",
       "1     34\n",
       "Name: multiclass, dtype: int64"
      ]
     },
     "execution_count": 244,
     "metadata": {},
     "output_type": "execute_result"
    }
   ],
   "source": [
    "npf[\"multiclass\"] = np.where(npf[\"class4\"]==\"nonevent\",0,1)\n",
    "npf[\"multiclass\"] = np.where(npf[\"class4\"]==\"Ia\",1,npf[\"multiclass\"])\n",
    "npf[\"multiclass\"] = np.where(npf[\"class4\"]==\"Ib\",2,npf[\"multiclass\"])\n",
    "npf[\"multiclass\"] = np.where(npf[\"class4\"]==\"II\",3,npf[\"multiclass\"])\n",
    "npf[\"multiclass\"].value_counts()"
   ]
  },
  {
   "cell_type": "code",
   "execution_count": 245,
   "metadata": {},
   "outputs": [
    {
     "data": {
      "text/html": [
       "<div>\n",
       "<style scoped>\n",
       "    .dataframe tbody tr th:only-of-type {\n",
       "        vertical-align: middle;\n",
       "    }\n",
       "\n",
       "    .dataframe tbody tr th {\n",
       "        vertical-align: top;\n",
       "    }\n",
       "\n",
       "    .dataframe thead th {\n",
       "        text-align: right;\n",
       "    }\n",
       "</style>\n",
       "<table border=\"1\" class=\"dataframe\">\n",
       "  <thead>\n",
       "    <tr style=\"text-align: right;\">\n",
       "      <th></th>\n",
       "      <th>id</th>\n",
       "      <th>date</th>\n",
       "      <th>class4</th>\n",
       "      <th>partlybad</th>\n",
       "      <th>CO2168.mean</th>\n",
       "      <th>CO2168.std</th>\n",
       "      <th>CO2336.mean</th>\n",
       "      <th>CO2336.std</th>\n",
       "      <th>CO242.mean</th>\n",
       "      <th>CO242.std</th>\n",
       "      <th>...</th>\n",
       "      <th>T84.std</th>\n",
       "      <th>UV_A.mean</th>\n",
       "      <th>UV_A.std</th>\n",
       "      <th>UV_B.mean</th>\n",
       "      <th>UV_B.std</th>\n",
       "      <th>CS.mean</th>\n",
       "      <th>CS.std</th>\n",
       "      <th>class2</th>\n",
       "      <th>class_type</th>\n",
       "      <th>multiclass</th>\n",
       "    </tr>\n",
       "  </thead>\n",
       "  <tbody>\n",
       "    <tr>\n",
       "      <th>0</th>\n",
       "      <td>1</td>\n",
       "      <td>2000-01-17</td>\n",
       "      <td>Ib</td>\n",
       "      <td>False</td>\n",
       "      <td>368.771711</td>\n",
       "      <td>0.310309</td>\n",
       "      <td>368.665658</td>\n",
       "      <td>0.305127</td>\n",
       "      <td>369.371184</td>\n",
       "      <td>0.333606</td>\n",
       "      <td>...</td>\n",
       "      <td>0.271648</td>\n",
       "      <td>2.492491</td>\n",
       "      <td>1.310880</td>\n",
       "      <td>0.031587</td>\n",
       "      <td>0.018122</td>\n",
       "      <td>0.000243</td>\n",
       "      <td>0.000035</td>\n",
       "      <td>event</td>\n",
       "      <td>1</td>\n",
       "      <td>2</td>\n",
       "    </tr>\n",
       "    <tr>\n",
       "      <th>1</th>\n",
       "      <td>2</td>\n",
       "      <td>2000-02-28</td>\n",
       "      <td>nonevent</td>\n",
       "      <td>False</td>\n",
       "      <td>378.197295</td>\n",
       "      <td>1.001493</td>\n",
       "      <td>378.083089</td>\n",
       "      <td>1.025472</td>\n",
       "      <td>378.671311</td>\n",
       "      <td>1.017208</td>\n",
       "      <td>...</td>\n",
       "      <td>0.271090</td>\n",
       "      <td>0.295937</td>\n",
       "      <td>0.177836</td>\n",
       "      <td>0.005140</td>\n",
       "      <td>0.003552</td>\n",
       "      <td>0.003658</td>\n",
       "      <td>0.000940</td>\n",
       "      <td>noevent</td>\n",
       "      <td>0</td>\n",
       "      <td>0</td>\n",
       "    </tr>\n",
       "    <tr>\n",
       "      <th>2</th>\n",
       "      <td>3</td>\n",
       "      <td>2000-03-24</td>\n",
       "      <td>Ib</td>\n",
       "      <td>False</td>\n",
       "      <td>373.043158</td>\n",
       "      <td>0.749865</td>\n",
       "      <td>372.930066</td>\n",
       "      <td>0.728411</td>\n",
       "      <td>373.569735</td>\n",
       "      <td>0.835240</td>\n",
       "      <td>...</td>\n",
       "      <td>2.334741</td>\n",
       "      <td>14.434789</td>\n",
       "      <td>8.627312</td>\n",
       "      <td>0.353743</td>\n",
       "      <td>0.272472</td>\n",
       "      <td>0.000591</td>\n",
       "      <td>0.000191</td>\n",
       "      <td>event</td>\n",
       "      <td>1</td>\n",
       "      <td>2</td>\n",
       "    </tr>\n",
       "    <tr>\n",
       "      <th>3</th>\n",
       "      <td>4</td>\n",
       "      <td>2000-03-30</td>\n",
       "      <td>II</td>\n",
       "      <td>False</td>\n",
       "      <td>375.643019</td>\n",
       "      <td>0.558629</td>\n",
       "      <td>375.549430</td>\n",
       "      <td>0.540964</td>\n",
       "      <td>376.045849</td>\n",
       "      <td>0.580730</td>\n",
       "      <td>...</td>\n",
       "      <td>2.695277</td>\n",
       "      <td>16.077513</td>\n",
       "      <td>9.984686</td>\n",
       "      <td>0.568242</td>\n",
       "      <td>0.451830</td>\n",
       "      <td>0.002493</td>\n",
       "      <td>0.000466</td>\n",
       "      <td>event</td>\n",
       "      <td>1</td>\n",
       "      <td>3</td>\n",
       "    </tr>\n",
       "    <tr>\n",
       "      <th>4</th>\n",
       "      <td>5</td>\n",
       "      <td>2000-04-04</td>\n",
       "      <td>nonevent</td>\n",
       "      <td>False</td>\n",
       "      <td>377.661030</td>\n",
       "      <td>0.408421</td>\n",
       "      <td>377.609576</td>\n",
       "      <td>0.423963</td>\n",
       "      <td>378.117134</td>\n",
       "      <td>0.417243</td>\n",
       "      <td>...</td>\n",
       "      <td>1.614122</td>\n",
       "      <td>9.710422</td>\n",
       "      <td>7.054069</td>\n",
       "      <td>0.339135</td>\n",
       "      <td>0.291457</td>\n",
       "      <td>0.004715</td>\n",
       "      <td>0.000679</td>\n",
       "      <td>noevent</td>\n",
       "      <td>0</td>\n",
       "      <td>0</td>\n",
       "    </tr>\n",
       "  </tbody>\n",
       "</table>\n",
       "<p>5 rows × 107 columns</p>\n",
       "</div>"
      ],
      "text/plain": [
       "   id        date    class4  partlybad  CO2168.mean  CO2168.std  CO2336.mean  \\\n",
       "0   1  2000-01-17        Ib      False   368.771711    0.310309   368.665658   \n",
       "1   2  2000-02-28  nonevent      False   378.197295    1.001493   378.083089   \n",
       "2   3  2000-03-24        Ib      False   373.043158    0.749865   372.930066   \n",
       "3   4  2000-03-30        II      False   375.643019    0.558629   375.549430   \n",
       "4   5  2000-04-04  nonevent      False   377.661030    0.408421   377.609576   \n",
       "\n",
       "   CO2336.std  CO242.mean  CO242.std  ...   T84.std  UV_A.mean  UV_A.std  \\\n",
       "0    0.305127  369.371184   0.333606  ...  0.271648   2.492491  1.310880   \n",
       "1    1.025472  378.671311   1.017208  ...  0.271090   0.295937  0.177836   \n",
       "2    0.728411  373.569735   0.835240  ...  2.334741  14.434789  8.627312   \n",
       "3    0.540964  376.045849   0.580730  ...  2.695277  16.077513  9.984686   \n",
       "4    0.423963  378.117134   0.417243  ...  1.614122   9.710422  7.054069   \n",
       "\n",
       "   UV_B.mean  UV_B.std   CS.mean    CS.std   class2  class_type  multiclass  \n",
       "0   0.031587  0.018122  0.000243  0.000035    event           1           2  \n",
       "1   0.005140  0.003552  0.003658  0.000940  noevent           0           0  \n",
       "2   0.353743  0.272472  0.000591  0.000191    event           1           2  \n",
       "3   0.568242  0.451830  0.002493  0.000466    event           1           3  \n",
       "4   0.339135  0.291457  0.004715  0.000679  noevent           0           0  \n",
       "\n",
       "[5 rows x 107 columns]"
      ]
     },
     "execution_count": 245,
     "metadata": {},
     "output_type": "execute_result"
    }
   ],
   "source": [
    "npf.head()"
   ]
  },
  {
   "cell_type": "markdown",
   "metadata": {},
   "source": [
    "# Binary classification"
   ]
  },
  {
   "cell_type": "code",
   "execution_count": 246,
   "metadata": {},
   "outputs": [
    {
     "data": {
      "text/plain": [
       "(324, 100)"
      ]
     },
     "execution_count": 246,
     "metadata": {},
     "output_type": "execute_result"
    }
   ],
   "source": [
    "from sklearn.model_selection import train_test_split\n",
    "from sklearn.preprocessing import StandardScaler\n",
    "from sklearn.linear_model import LogisticRegression\n",
    "from sklearn.metrics import confusion_matrix,classification_report\n",
    "X = npf.drop([\"id\",\"date\",\"class4\",\"partlybad\",\"class2\",\"class_type\",\"multiclass\"],axis=1)\n",
    "y = npf[\"class_type\"]\n",
    "X_train, X_test, y_train, y_test = train_test_split(X,y,test_size=0.3,random_state=101)\n",
    "X_train.shape"
   ]
  },
  {
   "cell_type": "code",
   "execution_count": 247,
   "metadata": {},
   "outputs": [
    {
     "data": {
      "text/plain": [
       "CO2168.mean    11.342924\n",
       "CO2168.std      3.429428\n",
       "CO2336.mean    11.324012\n",
       "CO2336.std      3.143118\n",
       "CO242.mean     10.899764\n",
       "                 ...    \n",
       "UV_A.std        4.941659\n",
       "UV_B.mean       0.308604\n",
       "UV_B.std        0.281495\n",
       "CS.mean         0.001977\n",
       "CS.std          0.000651\n",
       "Length: 100, dtype: float64"
      ]
     },
     "execution_count": 247,
     "metadata": {},
     "output_type": "execute_result"
    }
   ],
   "source": [
    "X_train.mean(axis=0)\n",
    "X_train.std(axis=0)"
   ]
  },
  {
   "cell_type": "code",
   "execution_count": 248,
   "metadata": {},
   "outputs": [
    {
     "name": "stdout",
     "output_type": "stream",
     "text": [
      "(140,)\n",
      "confusion_matrix: [[61 11]\n",
      " [ 7 61]]\n",
      "score: 0.8714285714285714\n",
      "perplexity_test: 1.4464358121680827\n",
      "classification_report:               precision    recall  f1-score   support\n",
      "\n",
      "           0       0.90      0.85      0.87        72\n",
      "           1       0.85      0.90      0.87        68\n",
      "\n",
      "    accuracy                           0.87       140\n",
      "   macro avg       0.87      0.87      0.87       140\n",
      "weighted avg       0.87      0.87      0.87       140\n",
      "\n"
     ]
    },
    {
     "name": "stderr",
     "output_type": "stream",
     "text": [
      "/home/qian/.local/lib/python3.10/site-packages/sklearn/linear_model/_logistic.py:444: ConvergenceWarning: lbfgs failed to converge (status=1):\n",
      "STOP: TOTAL NO. of ITERATIONS REACHED LIMIT.\n",
      "\n",
      "Increase the number of iterations (max_iter) or scale the data as shown in:\n",
      "    https://scikit-learn.org/stable/modules/preprocessing.html\n",
      "Please also refer to the documentation for alternative solver options:\n",
      "    https://scikit-learn.org/stable/modules/linear_model.html#logistic-regression\n",
      "  n_iter_i = _check_optimize_result(\n"
     ]
    }
   ],
   "source": [
    "#without preprocessing data\n",
    "m1 = LogisticRegression()\n",
    "m1.fit(X_train,y_train)\n",
    "predictions = m1.predict(X_test)\n",
    "#probability of \"event\" for test data\n",
    "pre_prob = m1.predict_proba(X_test)[:,1]\n",
    "print(pre_prob.shape)\n",
    "# print(\"probability:\",pre_prob)\n",
    "print(\"confusion_matrix:\",confusion_matrix(y_test,predictions))\n",
    "#score shows the accuracy of your model (Binary accuracy (class2))\n",
    "score = m1.score(X_test,y_test)\n",
    "print(\"score:\",score)\n",
    "#perplexity  P = exp(−mean(ln(pi)))\n",
    "perplexity_test = np.exp(-np.mean(np.log(y_test*pre_prob + (1 - y_test) * (1 - pre_prob))))\n",
    "print(\"perplexity_test:\",perplexity_test)\n",
    "print(\"classification_report:\",classification_report(y_test,predictions))"
   ]
  },
  {
   "cell_type": "code",
   "execution_count": 249,
   "metadata": {},
   "outputs": [
    {
     "name": "stdout",
     "output_type": "stream",
     "text": [
      "confusion_matrix [[58 14]\n",
      " [ 8 60]]\n",
      "score: 0.8428571428571429\n",
      "perplexity_test: 1.6213929530741549\n",
      "classification_report:               precision    recall  f1-score   support\n",
      "\n",
      "           0       0.88      0.81      0.84        72\n",
      "           1       0.81      0.88      0.85        68\n",
      "\n",
      "    accuracy                           0.84       140\n",
      "   macro avg       0.84      0.84      0.84       140\n",
      "weighted avg       0.85      0.84      0.84       140\n",
      "\n"
     ]
    }
   ],
   "source": [
    "#with preprocessing data\n",
    "import sklearn.preprocessing as preprocessing\n",
    "#l1,l2,max  3 types normalization\n",
    "X_trainNorm = preprocessing.normalize(X_train, norm=\"max\")\n",
    "X_testNorm = preprocessing.normalize(X_test, norm=\"max\")\n",
    "m2 = LogisticRegression()\n",
    "m2.fit(X_trainNorm,y_train)\n",
    "predictions_Norm = m2.predict(X_testNorm)\n",
    "#probability of \"event\" for test data\n",
    "pre_prob_Norm = m2.predict_proba(X_testNorm)[:,1]\n",
    "# print(pre_prob_Norm)\n",
    "print(\"confusion_matrix\",confusion_matrix(y_test,predictions_Norm))\n",
    "#score shows the accuracy of your model (Binary accuracy (class2))\n",
    "score_Norm = m2.score(X_testNorm,y_test)\n",
    "print(\"score:\",score_Norm)\n",
    "#perplexity  P = exp(−mean(ln(pi)))\n",
    "perplexity_test_Norm = np.exp(-np.mean(np.log(y_test*pre_prob_Norm + (1 - y_test) * (1 - pre_prob_Norm))))\n",
    "print(\"perplexity_test:\",perplexity_test_Norm)\n",
    "print(\"classification_report:\",classification_report(y_test,predictions_Norm))\n"
   ]
  },
  {
   "cell_type": "markdown",
   "metadata": {},
   "source": [
    "# best answer so far:0.89"
   ]
  },
  {
   "cell_type": "code",
   "execution_count": 250,
   "metadata": {},
   "outputs": [
    {
     "name": "stdout",
     "output_type": "stream",
     "text": [
      "confusion_matrix [[62 10]\n",
      " [ 5 63]]\n",
      "score: 0.8928571428571429\n",
      "perplexity_test: 1.335464904515172\n",
      "classification_report:               precision    recall  f1-score   support\n",
      "\n",
      "           0       0.93      0.86      0.89        72\n",
      "           1       0.86      0.93      0.89        68\n",
      "\n",
      "    accuracy                           0.89       140\n",
      "   macro avg       0.89      0.89      0.89       140\n",
      "weighted avg       0.90      0.89      0.89       140\n",
      "\n"
     ]
    }
   ],
   "source": [
    "#with preprocessing data\n",
    "import sklearn.preprocessing as preprocessing\n",
    "#standardization\n",
    "#The result is that all data for each attribute is clustered around 0 with a variance of 1\n",
    "# scaler = preprocessing.StandardScaler().fit(X)\n",
    "# StandardScaler(copy=True, with_mean=True, with_std=True)\n",
    "# X_trainScale = scaler.transform(X_train)\n",
    "# X_testScale = scaler.transform(X_test)\n",
    "X_trainScale = preprocessing.scale(X_train)\n",
    "X_testScale = preprocessing.scale(X_test)\n",
    "m3 = LogisticRegression()\n",
    "m3.fit(X_trainScale,y_train)\n",
    "predictions_Scale = m3.predict(X_testScale)\n",
    "#probability of \"event\" for test data   \n",
    "pre_prob_Scale = m3.predict_proba(X_testScale)[:,1]\n",
    "# print(pre_prob_Scale)\n",
    "print(\"confusion_matrix\",confusion_matrix(y_test,predictions_Scale))\n",
    "#score shows the accuracy of your model(Binary accuracy (class2))\n",
    "score_Scale = m3.score(X_testScale,y_test)\n",
    "print(\"score:\",score_Scale)\n",
    "#perplexity  P = exp(−mean(ln(pi)))\n",
    "perplexity_test_Scale = np.exp(-np.mean(np.log(y_test*pre_prob_Scale + (1 - y_test) * (1 - pre_prob_Scale))))\n",
    "print(\"perplexity_test:\",perplexity_test_Scale)\n",
    "print(\"classification_report:\",classification_report(y_test,predictions_Scale))\n"
   ]
  },
  {
   "cell_type": "markdown",
   "metadata": {},
   "source": [
    "### estimate your accuracy in the test set(use m3)"
   ]
  },
  {
   "cell_type": "code",
   "execution_count": 251,
   "metadata": {},
   "outputs": [
    {
     "data": {
      "text/html": [
       "<div>\n",
       "<style scoped>\n",
       "    .dataframe tbody tr th:only-of-type {\n",
       "        vertical-align: middle;\n",
       "    }\n",
       "\n",
       "    .dataframe tbody tr th {\n",
       "        vertical-align: top;\n",
       "    }\n",
       "\n",
       "    .dataframe thead th {\n",
       "        text-align: right;\n",
       "    }\n",
       "</style>\n",
       "<table border=\"1\" class=\"dataframe\">\n",
       "  <thead>\n",
       "    <tr style=\"text-align: right;\">\n",
       "      <th></th>\n",
       "      <th>id</th>\n",
       "      <th>date</th>\n",
       "      <th>class4</th>\n",
       "      <th>partlybad</th>\n",
       "      <th>CO2168.mean</th>\n",
       "      <th>CO2168.std</th>\n",
       "      <th>CO2336.mean</th>\n",
       "      <th>CO2336.std</th>\n",
       "      <th>CO242.mean</th>\n",
       "      <th>CO242.std</th>\n",
       "      <th>...</th>\n",
       "      <th>T672.mean</th>\n",
       "      <th>T672.std</th>\n",
       "      <th>T84.mean</th>\n",
       "      <th>T84.std</th>\n",
       "      <th>UV_A.mean</th>\n",
       "      <th>UV_A.std</th>\n",
       "      <th>UV_B.mean</th>\n",
       "      <th>UV_B.std</th>\n",
       "      <th>CS.mean</th>\n",
       "      <th>CS.std</th>\n",
       "    </tr>\n",
       "  </thead>\n",
       "  <tbody>\n",
       "    <tr>\n",
       "      <th>0</th>\n",
       "      <td>465</td>\n",
       "      <td>NaN</td>\n",
       "      <td>NaN</td>\n",
       "      <td>False</td>\n",
       "      <td>372.893878</td>\n",
       "      <td>4.629224</td>\n",
       "      <td>373.054467</td>\n",
       "      <td>4.205271</td>\n",
       "      <td>373.651472</td>\n",
       "      <td>5.784621</td>\n",
       "      <td>...</td>\n",
       "      <td>12.415280</td>\n",
       "      <td>1.609407</td>\n",
       "      <td>12.804559</td>\n",
       "      <td>2.312871</td>\n",
       "      <td>15.330203</td>\n",
       "      <td>12.127582</td>\n",
       "      <td>0.564091</td>\n",
       "      <td>0.535718</td>\n",
       "      <td>0.003237</td>\n",
       "      <td>0.001280</td>\n",
       "    </tr>\n",
       "    <tr>\n",
       "      <th>1</th>\n",
       "      <td>466</td>\n",
       "      <td>NaN</td>\n",
       "      <td>NaN</td>\n",
       "      <td>False</td>\n",
       "      <td>384.357287</td>\n",
       "      <td>6.189277</td>\n",
       "      <td>384.481755</td>\n",
       "      <td>6.087435</td>\n",
       "      <td>384.976738</td>\n",
       "      <td>6.291519</td>\n",
       "      <td>...</td>\n",
       "      <td>22.072418</td>\n",
       "      <td>3.835350</td>\n",
       "      <td>23.068204</td>\n",
       "      <td>4.320448</td>\n",
       "      <td>21.137412</td>\n",
       "      <td>15.249912</td>\n",
       "      <td>0.986913</td>\n",
       "      <td>0.868741</td>\n",
       "      <td>0.008954</td>\n",
       "      <td>0.001712</td>\n",
       "    </tr>\n",
       "    <tr>\n",
       "      <th>2</th>\n",
       "      <td>467</td>\n",
       "      <td>NaN</td>\n",
       "      <td>NaN</td>\n",
       "      <td>False</td>\n",
       "      <td>407.851800</td>\n",
       "      <td>2.338562</td>\n",
       "      <td>406.567400</td>\n",
       "      <td>1.789194</td>\n",
       "      <td>411.091224</td>\n",
       "      <td>2.187063</td>\n",
       "      <td>...</td>\n",
       "      <td>-14.321208</td>\n",
       "      <td>0.795222</td>\n",
       "      <td>-16.395076</td>\n",
       "      <td>1.230319</td>\n",
       "      <td>1.719967</td>\n",
       "      <td>1.056718</td>\n",
       "      <td>0.043330</td>\n",
       "      <td>0.028101</td>\n",
       "      <td>0.002392</td>\n",
       "      <td>0.000673</td>\n",
       "    </tr>\n",
       "    <tr>\n",
       "      <th>3</th>\n",
       "      <td>468</td>\n",
       "      <td>NaN</td>\n",
       "      <td>NaN</td>\n",
       "      <td>False</td>\n",
       "      <td>380.007321</td>\n",
       "      <td>0.311889</td>\n",
       "      <td>379.976000</td>\n",
       "      <td>0.301242</td>\n",
       "      <td>380.187636</td>\n",
       "      <td>0.332844</td>\n",
       "      <td>...</td>\n",
       "      <td>-5.784290</td>\n",
       "      <td>0.134812</td>\n",
       "      <td>-5.341722</td>\n",
       "      <td>0.144034</td>\n",
       "      <td>0.668260</td>\n",
       "      <td>0.300168</td>\n",
       "      <td>0.013184</td>\n",
       "      <td>0.005966</td>\n",
       "      <td>0.002179</td>\n",
       "      <td>0.000264</td>\n",
       "    </tr>\n",
       "    <tr>\n",
       "      <th>4</th>\n",
       "      <td>469</td>\n",
       "      <td>NaN</td>\n",
       "      <td>NaN</td>\n",
       "      <td>False</td>\n",
       "      <td>403.974082</td>\n",
       "      <td>0.369724</td>\n",
       "      <td>404.066122</td>\n",
       "      <td>0.370966</td>\n",
       "      <td>404.077755</td>\n",
       "      <td>0.439589</td>\n",
       "      <td>...</td>\n",
       "      <td>-17.074846</td>\n",
       "      <td>0.351160</td>\n",
       "      <td>-16.364321</td>\n",
       "      <td>0.461174</td>\n",
       "      <td>1.756448</td>\n",
       "      <td>0.663685</td>\n",
       "      <td>0.042135</td>\n",
       "      <td>0.016875</td>\n",
       "      <td>0.001908</td>\n",
       "      <td>0.000091</td>\n",
       "    </tr>\n",
       "  </tbody>\n",
       "</table>\n",
       "<p>5 rows × 104 columns</p>\n",
       "</div>"
      ],
      "text/plain": [
       "    id  date  class4  partlybad  CO2168.mean  CO2168.std  CO2336.mean  \\\n",
       "0  465   NaN     NaN      False   372.893878    4.629224   373.054467   \n",
       "1  466   NaN     NaN      False   384.357287    6.189277   384.481755   \n",
       "2  467   NaN     NaN      False   407.851800    2.338562   406.567400   \n",
       "3  468   NaN     NaN      False   380.007321    0.311889   379.976000   \n",
       "4  469   NaN     NaN      False   403.974082    0.369724   404.066122   \n",
       "\n",
       "   CO2336.std  CO242.mean  CO242.std  ...  T672.mean  T672.std   T84.mean  \\\n",
       "0    4.205271  373.651472   5.784621  ...  12.415280  1.609407  12.804559   \n",
       "1    6.087435  384.976738   6.291519  ...  22.072418  3.835350  23.068204   \n",
       "2    1.789194  411.091224   2.187063  ... -14.321208  0.795222 -16.395076   \n",
       "3    0.301242  380.187636   0.332844  ...  -5.784290  0.134812  -5.341722   \n",
       "4    0.370966  404.077755   0.439589  ... -17.074846  0.351160 -16.364321   \n",
       "\n",
       "    T84.std  UV_A.mean   UV_A.std  UV_B.mean  UV_B.std   CS.mean    CS.std  \n",
       "0  2.312871  15.330203  12.127582   0.564091  0.535718  0.003237  0.001280  \n",
       "1  4.320448  21.137412  15.249912   0.986913  0.868741  0.008954  0.001712  \n",
       "2  1.230319   1.719967   1.056718   0.043330  0.028101  0.002392  0.000673  \n",
       "3  0.144034   0.668260   0.300168   0.013184  0.005966  0.002179  0.000264  \n",
       "4  0.461174   1.756448   0.663685   0.042135  0.016875  0.001908  0.000091  \n",
       "\n",
       "[5 rows x 104 columns]"
      ]
     },
     "execution_count": 251,
     "metadata": {},
     "output_type": "execute_result"
    }
   ],
   "source": [
    "\n",
    "npf_test = pd.read_csv('00Term project materials-20221204/npf_test_hidden.csv')\n",
    "npf_test.head()"
   ]
  },
  {
   "cell_type": "code",
   "execution_count": 252,
   "metadata": {},
   "outputs": [
    {
     "data": {
      "text/plain": [
       "(965, 104)"
      ]
     },
     "execution_count": 252,
     "metadata": {},
     "output_type": "execute_result"
    }
   ],
   "source": [
    "npf_test.shape"
   ]
  },
  {
   "cell_type": "code",
   "execution_count": 253,
   "metadata": {},
   "outputs": [
    {
     "data": {
      "text/plain": [
       "(965, 100)"
      ]
     },
     "execution_count": 253,
     "metadata": {},
     "output_type": "execute_result"
    }
   ],
   "source": [
    "x_t = npf_test.drop([\"class4\",\"partlybad\",\"id\",\"date\"],axis=1)\n",
    "x_testdata = preprocessing.scale(x_t)\n",
    "x_testdata.shape"
   ]
  },
  {
   "cell_type": "code",
   "execution_count": 254,
   "metadata": {},
   "outputs": [
    {
     "data": {
      "text/plain": [
       "(965,)"
      ]
     },
     "execution_count": 254,
     "metadata": {},
     "output_type": "execute_result"
    }
   ],
   "source": [
    "y_pred = m3.predict(x_testdata)\n",
    "y_pred.shape"
   ]
  },
  {
   "cell_type": "markdown",
   "metadata": {},
   "source": [
    "# Multiclass Classification"
   ]
  },
  {
   "cell_type": "code",
   "execution_count": 255,
   "metadata": {},
   "outputs": [
    {
     "data": {
      "text/plain": [
       "(324, 100)"
      ]
     },
     "execution_count": 255,
     "metadata": {},
     "output_type": "execute_result"
    }
   ],
   "source": [
    "new_y = npf[\"multiclass\"]\n",
    "X_train, X_test, new_y_train, new_y_test = train_test_split(X,new_y,test_size=0.3,random_state=101)"
   ]
  },
  {
   "cell_type": "markdown",
   "metadata": {},
   "source": [
    "### Need to train 3 classifiers"
   ]
  }
 ],
 "metadata": {
  "kernelspec": {
   "display_name": "Python 3.10.6 64-bit",
   "language": "python",
   "name": "python3"
  },
  "language_info": {
   "codemirror_mode": {
    "name": "ipython",
    "version": 3
   },
   "file_extension": ".py",
   "mimetype": "text/x-python",
   "name": "python",
   "nbconvert_exporter": "python",
   "pygments_lexer": "ipython3",
   "version": "3.10.6"
  },
  "orig_nbformat": 4,
  "vscode": {
   "interpreter": {
    "hash": "916dbcbb3f70747c44a77c7bcd40155683ae19c65e1c03b4aa3499c5328201f1"
   }
  }
 },
 "nbformat": 4,
 "nbformat_minor": 2
}
